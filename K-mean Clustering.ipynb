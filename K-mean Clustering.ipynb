{
 "cells": [
  {
   "cell_type": "code",
   "execution_count": 3,
   "id": "cca2aa58",
   "metadata": {},
   "outputs": [],
   "source": [
    "import pandas as pd\n",
    "from sklearn.cluster import KMeans\n",
    "from sklearn.preprocessing import StandardScaler "
   ]
  },
  {
   "cell_type": "code",
   "execution_count": 4,
   "id": "885758e8",
   "metadata": {},
   "outputs": [],
   "source": [
    "df = pd.read_csv(\"players.csv\")"
   ]
  },
  {
   "cell_type": "code",
   "execution_count": 11,
   "id": "a63580a6",
   "metadata": {},
   "outputs": [],
   "source": [
    "hero_id = 7  # earthshaker hero id = 7"
   ]
  },
  {
   "cell_type": "code",
   "execution_count": 26,
   "id": "b562e748",
   "metadata": {},
   "outputs": [],
   "source": [
    "df['team'] = df['team'].replace({'Radiant': 1, 'Dire': 0})"
   ]
  },
  {
   "cell_type": "code",
   "execution_count": 27,
   "id": "52f2a9e6",
   "metadata": {},
   "outputs": [],
   "source": [
    "X = df[df['hero_id'] == hero_id]"
   ]
  },
  {
   "cell_type": "code",
   "execution_count": 29,
   "id": "a5271fd9",
   "metadata": {},
   "outputs": [],
   "source": [
    "scale = StandardScaler()\n",
    "scaled_df = scale.fit_transform(X)"
   ]
  },
  {
   "cell_type": "code",
   "execution_count": 30,
   "id": "d22e8cb2",
   "metadata": {},
   "outputs": [],
   "source": [
    "n_clusters = 5"
   ]
  },
  {
   "cell_type": "code",
   "execution_count": 31,
   "id": "59a41bc3",
   "metadata": {},
   "outputs": [],
   "source": [
    "kmeans = KMeans(n_clusters=n_clusters, random_state=42)"
   ]
  },
  {
   "cell_type": "code",
   "execution_count": 33,
   "id": "d1c89a46",
   "metadata": {},
   "outputs": [
    {
     "data": {
      "text/plain": [
       "KMeans(n_clusters=5, random_state=42)"
      ]
     },
     "execution_count": 33,
     "metadata": {},
     "output_type": "execute_result"
    }
   ],
   "source": [
    "kmeans.fit(scaled_df)"
   ]
  },
  {
   "cell_type": "code",
   "execution_count": 35,
   "id": "bf95a331",
   "metadata": {},
   "outputs": [],
   "source": [
    "target_hero_roles = kmeans.predict(scaled_df)"
   ]
  },
  {
   "cell_type": "code",
   "execution_count": 36,
   "id": "f5c6a17e",
   "metadata": {},
   "outputs": [
    {
     "name": "stdout",
     "output_type": "stream",
     "text": [
      "[4 3 2 2 2 2 2 4 4 4 2 3 2 3 4 3 3 4 2 1 0 2 3 2 2 3 4 3 2 4 3 2 2 3 4 3 2\n",
      " 2 4 3 2 2 2 4 2 4 3 4 1 3 3 3 3 3 2 3 4 4 2 2 3 1 2 2 3 2 4 3 2 3 3 4 4 3\n",
      " 3 2 4 4 2 3 1 3 2 4 3 3 2 3 2 3 4 2 2 3 2 2 1 3 3 1 3 2 2 0 3 3 3 3 3 1 4\n",
      " 4 2 4 4 4 1 2 4 3 2 1 3 4 2 2 2 4 4 3 3 2 2 3 4 2 0 3 3 3 4 3 3 2 4 2 1 3\n",
      " 3 4 4 3 2 1 3 3 3 1 3 3 3 3 3 2 2 2 2 2 1 1 2 3 2 3 3 2 4 1 2 2 1 0 1 2 1\n",
      " 4 4 1 3 2 1 1 3 2 0 3 4 4 2 2 1 3 4 2 4 4 3 2 3 3 3 2 3 2 3 1 0 3 2 3 2 2\n",
      " 2 1 2 4 3 3 3 1 2 2 2 3 2 2 2 1 2 4 2 2 1 1 3 3 2 3 3 3 3 3 3 1 1 3 3 1 1\n",
      " 3 1 4 2 4 2 2 3 3 1 3 2 3 2 2 1 2 2 3 2 2 3 2 1 3 4 2 3 3 2 2 2 2 2 4 0 4\n",
      " 2 3 3 1 0 4 2 1 3 2 2 2 1 1 3 2 4 1 2 3 1 2 2 3 2 2 3 2 3 2 3 1 1 2 2 3 2\n",
      " 3 3 2 3 3 2 3 2 3 3 1 3 3 3 3 2 2 2 1 2 2 3 3 2 3 2 3 3 2 1 2 2 2 2 4 1 3\n",
      " 3 3 3 3 2 2 3 2 2 3 2 1 3 2 0 3 2 2 3]\n"
     ]
    }
   ],
   "source": [
    "print(target_hero_roles)"
   ]
  },
  {
   "cell_type": "code",
   "execution_count": null,
   "id": "26219200",
   "metadata": {},
   "outputs": [],
   "source": []
  }
 ],
 "metadata": {
  "kernelspec": {
   "display_name": "Python 3 (ipykernel)",
   "language": "python",
   "name": "python3"
  },
  "language_info": {
   "codemirror_mode": {
    "name": "ipython",
    "version": 3
   },
   "file_extension": ".py",
   "mimetype": "text/x-python",
   "name": "python",
   "nbconvert_exporter": "python",
   "pygments_lexer": "ipython3",
   "version": "3.9.12"
  }
 },
 "nbformat": 4,
 "nbformat_minor": 5
}
