{
 "cells": [
  {
   "cell_type": "markdown",
   "id": "31a80262",
   "metadata": {},
   "source": [
    "# K-Mean Clustering"
   ]
  },
  {
   "cell_type": "code",
   "execution_count": 15,
   "id": "febc75c6",
   "metadata": {},
   "outputs": [],
   "source": [
    "import pandas as pd\n",
    "import numpy as np\n",
    "from sklearn.cluster import KMeans\n",
    "from sklearn.preprocessing import StandardScaler \n",
    "import matplotlib.pyplot as plt\n",
    "import pickle"
   ]
  },
  {
   "cell_type": "markdown",
   "id": "9bab5c7c",
   "metadata": {},
   "source": [
    "# Load Dataframe"
   ]
  },
  {
   "cell_type": "code",
   "execution_count": 16,
   "id": "f3bc59e9",
   "metadata": {},
   "outputs": [],
   "source": [
    "# load resource_priority_df from a file\n",
    "with open('pickles/resource_priority_df.pickle', 'rb') as f:\n",
    "    resource_priority_df = pickle.load(f)\n",
    "    \n",
    "# load ability_priority_df from a file\n",
    "with open('pickles/ability_priority_df.pickle', 'rb') as f:\n",
    "    ability_priority_df = pickle.load(f)\n",
    "    \n",
    "# load lane_info_df from a file\n",
    "with open('pickles/lane_info_df.pickle', 'rb') as f:\n",
    "    map_movement_df = pickle.load(f)\n"
   ]
  },
  {
   "cell_type": "code",
   "execution_count": 17,
   "id": "4f87146a",
   "metadata": {},
   "outputs": [
    {
     "name": "stdout",
     "output_type": "stream",
     "text": [
      "100320\n",
      "         match_id  team  hero_id  player_slot  xpm_priority  gold_priority\n",
      "291    7083305097     1        7            1      0.148715       0.129923\n",
      "528    7082722396     0        7          131      0.216134       0.153690\n",
      "910    7082204525     1        7            0      0.197775       0.160792\n",
      "1230   7081372567     1        7            0      0.225693       0.214029\n",
      "1260   7081318183     1        7            0      0.180175       0.133621\n",
      "1680   7080700633     1        7            0      0.161632       0.124876\n",
      "1712   7080674955     1        7            2      0.139628       0.132673\n",
      "1894   7080323641     1        7            4      0.173804       0.132628\n",
      "1961   7080055687     1        7            1      0.170518       0.147240\n",
      "2154   7079723265     1        7            4      0.201607       0.185646\n",
      "2220   7079651268     1        7            0      0.129612       0.132335\n",
      "2248   7079633624     0        7          131      0.143247       0.110457\n",
      "2291   7079594677     1        7            1      0.160150       0.135511\n",
      "2779   7078927171     0        7          132      0.197351       0.146407\n",
      "2964   7078737548     1        7            4      0.204906       0.190063\n",
      "3028   7078635056     0        7          131      0.177054       0.152909\n",
      "3097   7078482969     0        7          130      0.180847       0.141880\n",
      "3210   7078344593     1        7            0      0.231685       0.224595\n",
      "4223   7076176616     1        7            3      0.133826       0.107344\n",
      "4249   7076162328     0        7          132      0.227886       0.232098\n",
      "4498   7075733201     0        7          131      0.200000       0.200000\n",
      "4673   7075489962     1        7            3      0.167915       0.133384\n",
      "4915   7074974996     0        7          128      0.188342       0.177268\n",
      "5164   7074647225     1        7            4      0.085137       0.074505\n",
      "5214   7074515711     1        7            4      0.056261       0.059406\n",
      "5237   7074488881     0        7          130      0.098743       0.094236\n",
      "5340   7074323308     1        7            0      0.110014       0.095535\n",
      "5656   7073559932     0        7          129      0.125224       0.119936\n",
      "5974   7073245409     1        7            4      0.067982       0.058898\n",
      "6453   7072484463     1        7            3      0.095255       0.066380\n",
      "...           ...   ...      ...          ...           ...            ...\n",
      "96008  6912375691     0        7          131      0.179094       0.160890\n",
      "96049  6912364455     0        7          132      0.137689       0.134095\n",
      "96552  6911349974     1        7            2      0.138762       0.126601\n",
      "96569  6911306644     0        7          132      0.204709       0.128320\n",
      "96614  6911160266     1        7            4      0.114858       0.127061\n",
      "96714  6910979774     1        7            4      0.148583       0.107999\n",
      "96924  6910497912     1        7            4      0.154233       0.148092\n",
      "97064  6910259030     1        7            4      0.152377       0.114319\n",
      "97160  6910108659     1        7            0      0.202437       0.206902\n",
      "97248  6909820617     0        7          131      0.177985       0.155739\n",
      "97417  6909330042     0        7          130      0.137648       0.145036\n",
      "97515  6909164157     0        7          128      0.201110       0.165870\n",
      "97616  6909067917     0        7          129      0.143269       0.114113\n",
      "97645  6909052089     0        7          128      0.174365       0.155304\n",
      "98518  6907594493     0        7          131      0.158412       0.164448\n",
      "98531  6907578792     1        7            1      0.127324       0.112196\n",
      "98573  6907494782     1        7            3      0.187010       0.140349\n",
      "98688  6907372278     0        7          131      0.188192       0.153744\n",
      "98841  6907212086     1        7            1      0.162014       0.142168\n",
      "98880  6907193292     1        7            0      0.158153       0.151102\n",
      "98896  6907173172     0        7          129      0.136816       0.112165\n",
      "99013  6907021792     1        7            3      0.174961       0.128251\n",
      "99155  6906804349     0        7          128      0.215981       0.196784\n",
      "99277  6906555538     0        7          130      0.181705       0.154796\n",
      "99444  6906031524     1        7            4      0.169652       0.155889\n",
      "99482  6905994522     1        7            2      0.186047       0.196421\n",
      "99499  6905963413     0        7          132      0.164079       0.137539\n",
      "99574  6905867438     1        7            4      0.168956       0.146717\n",
      "99713  6905733931     1        7            3      0.148919       0.120879\n",
      "99947  6905504043     0        7          130      0.159624       0.147966\n",
      "\n",
      "[389 rows x 6 columns]\n",
      "       match_id  player_slot        A1        A2        A3        A4 A1_id  \\\n",
      "0    6905504043          130  0.571429  0.363636  0.250000  0.176471  5023   \n",
      "1    6905733931            3  0.500000  0.363636  0.250000  0.176471  5023   \n",
      "2    6905867438            4  0.500000  0.400000  0.250000  0.166667  5023   \n",
      "3    6905963413          132  0.444444  0.400000  0.250000  0.176471  5023   \n",
      "4    6906031524            4  0.500000  0.500000  0.400000  0.166667  5023   \n",
      "5    6906555538          130  0.500000  0.444444  0.363636  0.166667  5023   \n",
      "6    6906804349          128  0.571429  0.400000  0.250000  0.176471  5023   \n",
      "7    6907021792            3  0.571429  0.363636  0.250000  0.176471  5023   \n",
      "8    6907173172          129  0.571429  0.500000  0.400000  0.166667  5023   \n",
      "9    6907193292            0  0.571429  0.363636  0.214286  0.166667  5023   \n",
      "10   6907212086            1  0.571429  0.363636  0.214286  0.166667  5023   \n",
      "11   6907372278          131  0.571429  0.400000  0.250000  0.166667  5023   \n",
      "12   6907494782            3  0.571429  0.400000  0.250000  0.166667  5023   \n",
      "13   6907578792            1  0.571429  0.363636  0.250000  0.176471  5023   \n",
      "14   6907594493          131  0.571429  0.400000  0.214286  0.166667  5023   \n",
      "15   6909052089          128  0.444444  0.400000  0.285714  0.176471  5023   \n",
      "16   6909067917          129  0.571429  0.400000  0.214286  0.166667  5023   \n",
      "17   6909164157          128  0.571429  0.400000  0.266667  0.187500  5023   \n",
      "18   6909330042          130  0.571429  0.400000  0.214286  0.166667  5023   \n",
      "19   6909820617          131  0.571429  0.363636  0.250000  0.176471  5023   \n",
      "20   6910108659            0  0.571429  0.400000  0.285714  0.176471  5023   \n",
      "21   6910259030            4  0.444444  0.400000  0.166667  0.153846  5023   \n",
      "22   6910497912            4  0.571429  0.363636  0.250000  0.176471  5023   \n",
      "23   6910979774            4  0.600000  0.500000  0.285714  0.166667  5023   \n",
      "24   6911160266            4  0.571429  0.333333  0.250000  0.166667  5023   \n",
      "25   6911306644          132  0.444444  0.400000  0.190476  0.166667  5023   \n",
      "26   6911349974            2  0.571429  0.400000  0.214286  0.166667  5023   \n",
      "27   6912364455          132  0.571429  0.500000  0.400000  0.166667  5023   \n",
      "28   6912375691          131  0.500000  0.400000  0.250000  0.166667  5023   \n",
      "29   6912423397            3  0.571429  0.400000  0.250000  0.176471  5023   \n",
      "..          ...          ...       ...       ...       ...       ...   ...   \n",
      "343  7072484463            3  1.142857  0.727273  0.500000  0.352941  5023   \n",
      "344  7073240730            4  0.571429  0.500000  0.363636  0.166667  5023   \n",
      "345  7073245409            4  1.142857  0.800000  0.428571  0.333333  5023   \n",
      "346  7073559932          129  1.142857  0.800000  0.500000  0.333333  5023   \n",
      "347  7074323308            0  1.000000  0.727273  0.500000  0.352941  5023   \n",
      "348  7074488881          130  0.888889  0.800000  0.500000  0.333333  5023   \n",
      "349  7074515711            4  1.000000  0.727273  0.571429  0.333333  5023   \n",
      "350  7074647225            4  1.142857  0.800000  0.533333  0.333333  5023   \n",
      "351  7074974996          128  0.500000  0.363636  0.250000  0.176471  5023   \n",
      "352  7075489962            3  0.500000  0.363636  0.214286  0.166667  5023   \n",
      "353  7076162328          132  0.444444  0.400000  0.250000  0.176471  5023   \n",
      "354  7076176616            3  0.571429  0.500000  0.250000  0.166667  5023   \n",
      "355  7078344593            0  0.571429  0.400000  0.250000  0.176471  5023   \n",
      "356  7078482969          130  0.571429  0.363636  0.214286  0.166667  5023   \n",
      "357  7078635056          131  0.571429  0.363636  0.166667  0.153846  5023   \n",
      "358  7078737548            4  0.444444  0.285714  0.250000  0.176471  5023   \n",
      "359  7078927171          132  0.500000  0.400000  0.250000  0.166667  5023   \n",
      "360  7079594677            1  0.571429  0.363636  0.210526  0.166667  5023   \n",
      "361  7079633624          131  0.571429  0.500000  0.400000  0.166667  5023   \n",
      "362  7079651268            0  0.500000  0.400000  0.214286  0.166667  5023   \n",
      "363  7079723265            4  0.444444  0.400000  0.250000  0.176471  5023   \n",
      "364  7080055687            1  0.571429  0.400000  0.285714  0.176471  5023   \n",
      "365  7080323641            4  0.571429  0.363636  0.250000  0.176471  5023   \n",
      "366  7080674955            2  0.500000  0.444444  0.400000  0.166667  5023   \n",
      "367  7080700633            0  0.500000  0.363636  0.250000  0.166667  5023   \n",
      "368  7081318183            0  0.571429  0.363636  0.266667  0.176471  5023   \n",
      "369  7081372567            0  0.500000  0.400000  0.250000  0.166667  5023   \n",
      "370  7082204525            0  0.500000  0.400000  0.250000  0.166667  5023   \n",
      "371  7082722396          131  0.571429  0.400000  0.181818  0.166667  5023   \n",
      "372  7083305097            1  0.571429  0.363636  0.250000  0.176471  5023   \n",
      "\n",
      "    A2_id A3_id A4_id  \n",
      "0    5024  5025  5026  \n",
      "1    5024  5025  5026  \n",
      "2    5024  5025  5026  \n",
      "3    5024  5025  5026  \n",
      "4    5024  5025  5026  \n",
      "5    5024  5025  5026  \n",
      "6    5024  5025  5026  \n",
      "7    5024  5025  5026  \n",
      "8    5024  5025  5026  \n",
      "9    5024  5025  5026  \n",
      "10   5024  5025  5026  \n",
      "11   5024  5025  5026  \n",
      "12   5024  5025  5026  \n",
      "13   5024  5025  5026  \n",
      "14   5024  5025  5026  \n",
      "15   5024  5025  5026  \n",
      "16   5024  5025  5026  \n",
      "17   5024  5025  5026  \n",
      "18   5024  5025  5026  \n",
      "19   5024  5025  5026  \n",
      "20   5024  5025  5026  \n",
      "21   5024  5025  5026  \n",
      "22   5024  5025  5026  \n",
      "23   5024  5025  5026  \n",
      "24   5024  5025  5026  \n",
      "25   5024  5025  5026  \n",
      "26   5024  5025  5026  \n",
      "27   5024  5025  5026  \n",
      "28   5024  5025  5026  \n",
      "29   5024  5025  5026  \n",
      "..    ...   ...   ...  \n",
      "343  5024  5025  5026  \n",
      "344  5024  5025  5026  \n",
      "345  5024  5025  5026  \n",
      "346  5024  5025  5026  \n",
      "347  5024  5025  5026  \n",
      "348  5024  5025  5026  \n",
      "349  5024  5025  5026  \n",
      "350  5024  5025  5026  \n",
      "351  5024  5025  5026  \n",
      "352  5024  5025  5026  \n",
      "353  5024  5025  5026  \n",
      "354  5024  5025  5026  \n",
      "355  5024  5025  5026  \n",
      "356  5024  5025  5026  \n",
      "357  5024  5025  5026  \n",
      "358  5024  5025  5026  \n",
      "359  5024  5025  5026  \n",
      "360  5024  5025  5026  \n",
      "361  5024  5025  5026  \n",
      "362  5024  5025  5026  \n",
      "363  5024  5025  5026  \n",
      "364  5024  5025  5026  \n",
      "365  5024  5025  5026  \n",
      "366  5024  5025  5026  \n",
      "367  5024  5025  5026  \n",
      "368  5024  5025  5026  \n",
      "369  5024  5025  5026  \n",
      "370  5024  5025  5026  \n",
      "371  5024  5025  5026  \n",
      "372  5024  5025  5026  \n",
      "\n",
      "[373 rows x 10 columns]\n",
      "          off      safe       mid   roaming  team    match_id\n",
      "0    0.536903  0.000000  0.020260  0.442836     1  7083305097\n",
      "1    0.814493  0.000000  0.000000  0.185507     0  7082722396\n",
      "2    0.334783  0.000000  0.017391  0.647826     1  7082204525\n",
      "3    0.000000  0.000000  0.008696  0.991304     1  7081372567\n",
      "4    0.457971  0.000000  0.011594  0.530435     1  7081318183\n",
      "5    0.768116  0.000000  0.068116  0.163768     1  7080700633\n",
      "6    0.355072  0.008696  0.030435  0.605797     1  7080674955\n",
      "7    0.446377  0.000000  0.008696  0.544928     1  7080323641\n",
      "8    0.808696  0.000000  0.026087  0.165217     1  7080055687\n",
      "9    0.000000  0.000000  0.023188  0.976812     1  7079723265\n",
      "10   0.684058  0.000000  0.026087  0.289855     1  7079651268\n",
      "11   0.621190  0.000000  0.000000  0.378810     0  7079633624\n",
      "12   0.000000  0.379710  0.043478  0.576812     1  7079594677\n",
      "13   0.649275  0.015942  0.000000  0.334783     0  7078927171\n",
      "14   0.719884  0.000000  0.010160  0.269956     1  7078737548\n",
      "15   0.589855  0.000000  0.000000  0.410145     0  7078635056\n",
      "16   0.802899  0.000000  0.000000  0.197101     0  7078482969\n",
      "17   0.000000  0.000000  0.023188  0.976812     1  7078344593\n",
      "18   0.263768  0.123188  0.030435  0.582609     1  7076176616\n",
      "19   0.000000  0.000000  0.000000  1.000000     0  7075733201\n",
      "20   0.398551  0.071014  0.071014  0.459420     1  7075489962\n",
      "21   0.488406  0.013043  0.000000  0.498551     0  7074974996\n",
      "22   0.647826  0.000000  0.044928  0.307246     1  7074647225\n",
      "23   0.352174  0.036232  0.010145  0.601449     1  7074515711\n",
      "24   0.884058  0.000000  0.000000  0.115942     0  7074488881\n",
      "25   0.804348  0.000000  0.053623  0.142029     1  7074323308\n",
      "26   0.000000  0.000000  0.000000  1.000000     0  7073559932\n",
      "27   0.150725  0.000000  0.024638  0.824638     1  7073245409\n",
      "28   0.436232  0.000000  0.020290  0.543478     1  7072484463\n",
      "29   0.601449  0.000000  0.000000  0.398551     0  7072332187\n",
      "..        ...       ...       ...       ...   ...         ...\n",
      "353  0.052174  0.575362  0.000000  0.372464     0  6912375691\n",
      "354  0.605797  0.000000  0.000000  0.394203     0  6912364455\n",
      "355  0.353111  0.000000  0.018813  0.628075     1  6911349974\n",
      "356  0.644928  0.000000  0.000000  0.355072     0  6911306644\n",
      "357  0.495652  0.000000  0.036232  0.468116     1  6911160266\n",
      "358  0.494920  0.000000  0.020319  0.484761     1  6910979774\n",
      "359  0.336232  0.000000  0.036232  0.627536     1  6910497912\n",
      "360  0.269956  0.072569  0.026125  0.631350     1  6910259030\n",
      "361  0.500000  0.013043  0.052174  0.434783     1  6910108659\n",
      "362  0.637681  0.000000  0.000000  0.362319     0  6909820617\n",
      "363  0.625544  0.000000  0.000000  0.374456     0  6909330042\n",
      "364  0.842029  0.000000  0.000000  0.157971     0  6909164157\n",
      "365  0.642029  0.000000  0.000000  0.357971     0  6909067917\n",
      "366  0.811594  0.007246  0.000000  0.181159     0  6909052089\n",
      "367  0.000000  0.568116  0.000000  0.431884     0  6907594493\n",
      "368  0.291304  0.000000  0.010145  0.698551     1  6907578792\n",
      "369  0.400000  0.000000  0.020290  0.579710     1  6907494782\n",
      "370  0.367199  0.000000  0.000000  0.632801     0  6907372278\n",
      "371  0.298551  0.011594  0.018841  0.671014     1  6907212086\n",
      "372  0.679710  0.000000  0.024638  0.295652     1  6907193292\n",
      "373  0.557971  0.000000  0.000000  0.442029     0  6907173172\n",
      "374  0.000000  0.037681  0.015942  0.946377     1  6907021792\n",
      "375  0.765217  0.000000  0.000000  0.234783     0  6906804349\n",
      "376  0.656522  0.000000  0.000000  0.343478     0  6906555538\n",
      "377  0.521739  0.000000  0.028986  0.449275     1  6906031524\n",
      "378  0.000000  0.000000  0.017391  0.982609     1  6905994522\n",
      "379  0.771014  0.000000  0.000000  0.228986     0  6905963413\n",
      "380  0.200000  0.000000  0.071014  0.728986     1  6905867438\n",
      "381  0.413043  0.105797  0.034783  0.446377     1  6905733931\n",
      "382  0.856522  0.000000  0.000000  0.143478     0  6905504043\n",
      "\n",
      "[383 rows x 6 columns]\n"
     ]
    }
   ],
   "source": [
    "print(len(resource_priority_df))\n",
    "X_rp = resource_priority_df[resource_priority_df['hero_id'] == hero_id]\n",
    "print((X_rp))\n",
    "print((ability_priority_df))\n",
    "print((map_movement_df))"
   ]
  },
  {
   "cell_type": "markdown",
   "id": "66986bae",
   "metadata": {},
   "source": [
    "# Function for visualizing graph"
   ]
  },
  {
   "cell_type": "code",
   "execution_count": 18,
   "id": "0a826b9e",
   "metadata": {},
   "outputs": [],
   "source": [
    "def show_cluster_graph(scaled_df, clustered_data, title, hero_id):\n",
    "    plt.scatter(scaled_df[:, 0], scaled_df[:, 1], c=clustered_data)\n",
    "    plt.title(title + str(hero_id))\n",
    "    plt.show()"
   ]
  },
  {
   "cell_type": "code",
   "execution_count": 19,
   "id": "5031897d",
   "metadata": {},
   "outputs": [],
   "source": [
    "def show_vertical_bar_graph(clustered_data, title, x_label, y_label, features_label):\n",
    "    position_assignments = [features_label[label] for label in clustered_data]\n",
    "    position_counts = {label: position_assignments.count(label) for label in features_label.values()}\n",
    "    plt.bar(position_counts.keys(), position_counts.values())\n",
    "    plt.xlabel(x_label)\n",
    "    plt.ylabel(y_label)\n",
    "    plt.title(title)\n",
    "    plt.show()"
   ]
  },
  {
   "cell_type": "markdown",
   "id": "2fe95e29",
   "metadata": {},
   "source": [
    "# Select a hero for calculation"
   ]
  },
  {
   "cell_type": "code",
   "execution_count": 20,
   "id": "b55d8260",
   "metadata": {},
   "outputs": [],
   "source": [
    "hero_id = 7  # earthshaker hero id = 7"
   ]
  },
  {
   "cell_type": "markdown",
   "id": "9e65b8c7",
   "metadata": {},
   "source": [
    "# K-Mean -- Resource Prioritization"
   ]
  },
  {
   "cell_type": "code",
   "execution_count": 21,
   "id": "ca0462f1",
   "metadata": {},
   "outputs": [
    {
     "data": {
      "image/png": "[encoded data removed]",
      "text/plain": [
       "<Figure size 432x288 with 1 Axes>"
      ]
     },
     "metadata": {},
     "output_type": "display_data"
    },
    {
     "data": {
      "image/png": "[encoded data removed]",
      "text/plain": [
       "<Figure size 432x288 with 1 Axes>"
      ]
     },
     "metadata": {},
     "output_type": "display_data"
    }
   ],
   "source": [
    "X_rp = resource_priority_df[resource_priority_df['hero_id'] == hero_id]\n",
    "\n",
    "scale = StandardScaler()\n",
    "scaled_df_rp = scale.fit_transform(X_rp[['xpm_priority', 'gold_priority']])\n",
    "    \n",
    "n_clusters = 4\n",
    "kmeans = KMeans(n_clusters=n_clusters, random_state=42)\n",
    "kmeans.fit(scaled_df_rp)\n",
    "target_hero_roles_rp = kmeans.labels_\n",
    "\n",
    "show_cluster_graph(scaled_df_rp, target_hero_roles_rp, \"Clustering of Resource Prioritization for Hero ID\", hero_id)\n",
    "position_labels = {0:\"Position 4/5\", 1:\"Position 3\", 2:\"Position 1/2\", 3:\"Position 0\"}\n",
    "show_vertical_bar_graph(target_hero_roles_rp, 'Instances of Resource Prioritization', 'Position', 'Count', position_labels)"
   ]
  },
  {
   "cell_type": "markdown",
   "id": "52b522f8",
   "metadata": {},
   "source": [
    "# K-Mean -- Ability Prioritization"
   ]
  },
  {
   "cell_type": "code",
   "execution_count": 22,
   "id": "6d7ca431",
   "metadata": {},
   "outputs": [],
   "source": [
    "ability_priority_df.dropna(inplace=True)"
   ]
  },
  {
   "cell_type": "code",
   "execution_count": 28,
   "id": "2f8ef3a4",
   "metadata": {},
   "outputs": [
    {
     "data": {
      "image/png": "[encoded data removed]",
      "text/plain": [
       "<Figure size 432x288 with 1 Axes>"
      ]
     },
     "metadata": {},
     "output_type": "display_data"
    }
   ],
   "source": [
    "scale = StandardScaler()\n",
    "scaled_df_ap = scale.fit_transform(ability_priority_df[['A1', 'A2', 'A3', 'A4']])\n",
    "\n",
    "n_clusters = 5\n",
    "kmeans = KMeans(n_clusters=n_clusters, random_state=42)\n",
    "kmeans.fit(scaled_df_ap)\n",
    "target_hero_roles_ap = kmeans.labels_\n",
    "\n",
    "# Note that build names here are kept consistent with paper\n",
    "ability_labels = {0:\"Build A\", 1:\"Build B\", 2:\"Build C\", 3:\"Build D\", 4:\"Build E\"}\n",
    "show_vertical_bar_graph(target_hero_roles_ap, \"Instances of Ability Prioritization\", \"\", \"Count\", ability_labels)"
   ]
  },
  {
   "cell_type": "markdown",
   "id": "9cbd7ba3",
   "metadata": {},
   "source": [
    "# K-Mean -- Map Movement"
   ]
  },
  {
   "cell_type": "code",
   "execution_count": 24,
   "id": "cba58feb",
   "metadata": {
    "scrolled": true
   },
   "outputs": [
    {
     "data": {
      "image/png": "[encoded data removed]",
      "text/plain": [
       "<Figure size 432x288 with 1 Axes>"
      ]
     },
     "metadata": {},
     "output_type": "display_data"
    }
   ],
   "source": [
    "scale = StandardScaler()\n",
    "scaled_df_lane = scale.fit_transform(map_movement_df[['off', 'mid', 'safe', 'roaming']])\n",
    "\n",
    "n_clusters = 4\n",
    "kmeans = KMeans(n_clusters=n_clusters, random_state=42)\n",
    "kmeans.fit(scaled_df_lane)\n",
    "target_hero_roles_mm = kmeans.predict(scaled_df_lane)\n",
    "\n",
    "lane_labels = {0:\"Roaming\", 1:\"Off\", 2:\"Safe\", 3:\"Mid\"}\n",
    "show_vertical_bar_graph(target_hero_roles_mm, \"Instances of Games Classified as Each Lane Role\", \"Lane\", \"Count\", lane_labels)"
   ]
  },
  {
   "cell_type": "markdown",
   "id": "9f6f1c92",
   "metadata": {},
   "source": [
    "# Ensemble using Voting-based"
   ]
  },
  {
   "cell_type": "code",
   "execution_count": 27,
   "id": "124c29e6",
   "metadata": {},
   "outputs": [],
   "source": [
    "# add match_ids to labels\n",
    "resource_priority_kmean = pd.DataFrame({'match_id': X_rp['match_id'], 'labels': target_hero_roles_rp})\n",
    "ability_priority_kmean = pd.DataFrame({'match_id': ability_priority_df['match_id'], 'labels': target_hero_roles_ap})\n",
    "map_movement_kmean = pd.DataFrame({'match_id': map_movement_df['match_id'], 'labels': target_hero_roles_mm})\n",
    "\n",
    "# save resource_priority_kmean to a file\n",
    "with open('pickles/results_RP_kmean.pickle', 'wb') as f:\n",
    "    pickle.dump(resource_priority_kmean, f)\n",
    "\n",
    "# save ability_priority_kmean to a file\n",
    "with open('pickles/results_AP_kmean.pickle', 'wb') as f:\n",
    "    pickle.dump(ability_priority_kmean, f)  \n",
    "    \n",
    "# save map_movement_kmean to a file\n",
    "with open('pickles/results_MM_kmean.pickle', 'wb') as f:\n",
    "    pickle.dump(map_movement_kmean, f)  "
   ]
  },
  {
   "cell_type": "code",
   "execution_count": null,
   "id": "1cb0030b",
   "metadata": {},
   "outputs": [],
   "source": []
  }
 ],
 "metadata": {
  "kernelspec": {
   "display_name": "Python 3",
   "language": "python",
   "name": "python3"
  },
  "language_info": {
   "codemirror_mode": {
    "name": "ipython",
    "version": 3
   },
   "file_extension": ".py",
   "mimetype": "text/x-python",
   "name": "python",
   "nbconvert_exporter": "python",
   "pygments_lexer": "ipython3",
   "version": "3.6.5"
  }
 },
 "nbformat": 4,
 "nbformat_minor": 5
}
