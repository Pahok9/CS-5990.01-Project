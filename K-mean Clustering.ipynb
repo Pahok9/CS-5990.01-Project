{
 "cells": [
  {
   "cell_type": "markdown",
   "id": "df45a97e",
   "metadata": {},
   "source": [
    "# K-Mean Clustering"
   ]
  },
  {
   "cell_type": "code",
   "execution_count": 2,
   "id": "cca2aa58",
   "metadata": {},
   "outputs": [],
   "source": [
    "import pandas as pd\n",
    "import numpy as np\n",
    "from sklearn.cluster import KMeans\n",
    "from sklearn.preprocessing import StandardScaler \n",
    "import matplotlib.pyplot as plt\n",
    "import pickle"
   ]
  },
  {
   "cell_type": "markdown",
   "id": "18fa8c63",
   "metadata": {},
   "source": [
    "# Load Dataframe"
   ]
  },
  {
   "cell_type": "code",
   "execution_count": 3,
   "id": "b7fc6f16",
   "metadata": {},
   "outputs": [],
   "source": [
    "# load resource_priority_df from a file\n",
    "with open('resource_priority_df.pickle', 'rb') as f:\n",
    "    resource_priority_df = pickle.load(f)\n",
    "    \n",
    "# load ability_priority_df from a file\n",
    "with open('ability_priority_df.pickle', 'rb') as f:\n",
    "    ability_priority_df = pickle.load(f)\n",
    "    \n",
    "# load player_df from a file (contains lane info)\n",
    "with open('player_df.pickle', 'rb') as f:\n",
    "    player_df = pickle.load(f)"
   ]
  },
  {
   "cell_type": "markdown",
   "id": "c68b2d81",
   "metadata": {},
   "source": [
    "# Function for visualizing counts"
   ]
  },
  {
   "cell_type": "code",
   "execution_count": 6,
   "id": "1d22353b",
   "metadata": {},
   "outputs": [],
   "source": [
    "def show_cluster_counts(dataframe, graph_name):\n",
    "    role_counts = np.bincount(dataframe)\n",
    "\n",
    "    plt.bar(range(len(role_counts)), role_counts)\n",
    "\n",
    "    plt.xlabel('Role')\n",
    "    plt.ylabel('Count')\n",
    "    plt.title(graph_name)\n",
    "\n",
    "    plt.show()"
   ]
  },
  {
   "cell_type": "markdown",
   "id": "f2457c0d",
   "metadata": {},
   "source": [
    "# Select a hero for calculation"
   ]
  },
  {
   "cell_type": "code",
   "execution_count": 20,
   "id": "a63580a6",
   "metadata": {},
   "outputs": [],
   "source": [
    "hero_id = 7  # earthshaker hero id = 7"
   ]
  },
  {
   "cell_type": "markdown",
   "id": "ea8aa1d9",
   "metadata": {},
   "source": [
    "# K-Mean -- Resource Prioritization"
   ]
  },
  {
   "cell_type": "code",
   "execution_count": 26,
   "id": "a5271fd9",
   "metadata": {},
   "outputs": [
    {
     "data": {
      "image/png": "[encoded data removed]",
      "text/plain": [
       "<Figure size 432x288 with 1 Axes>"
      ]
     },
     "metadata": {
      "needs_background": "light"
     },
     "output_type": "display_data"
    }
   ],
   "source": [
    "X_rp = resource_priority_df[resource_priority_df['hero_id'] == hero_id]\n",
    "\n",
    "scale = StandardScaler()\n",
    "scaled_df_rp = scale.fit_transform(X_rp)\n",
    "\n",
    "n_clusters = 5\n",
    "kmeans = KMeans(n_clusters=n_clusters, random_state=42)\n",
    "kmeans.fit(scaled_df_rp)\n",
    "target_hero_roles_rp = kmeans.predict(scaled_df_rp)\n",
    "\n",
    "show_cluster_counts(target_hero_roles_rp, \"K-Mean: Resource Prioritization\")"
   ]
  },
  {
   "cell_type": "markdown",
   "id": "3c4901a1",
   "metadata": {},
   "source": [
    "# K-Mean -- Ability Prioritization"
   ]
  },
  {
   "cell_type": "code",
   "execution_count": 38,
   "id": "26219200",
   "metadata": {
    "scrolled": true
   },
   "outputs": [
    {
     "data": {
      "image/png": "[encoded data removed]",
      "text/plain": [
       "<Figure size 432x288 with 1 Axes>"
      ]
     },
     "metadata": {
      "needs_background": "light"
     },
     "output_type": "display_data"
    }
   ],
   "source": [
    "X_ap = ability_priority_df[ability_priority_df['player_slot'] == 0] # PLACEHOLDER for hero id \n",
    "\n",
    "scale = StandardScaler()\n",
    "scaled_df_ap = scale.fit_transform(X_ap)\n",
    "\n",
    "n_clusters = 5\n",
    "kmeans = KMeans(n_clusters=n_clusters, random_state=42)\n",
    "kmeans.fit(scaled_df_ap)\n",
    "target_hero_roles_ap = kmeans.predict(scaled_df_ap)\n",
    "\n",
    "show_cluster_counts(target_hero_roles_ap, \"K-Mean: Ability Prioritization\")"
   ]
  },
  {
   "cell_type": "markdown",
   "id": "0b3ba0fd",
   "metadata": {},
   "source": [
    "# K-Mean -- Initial Lane"
   ]
  },
  {
   "cell_type": "code",
   "execution_count": 48,
   "id": "b1189ac7",
   "metadata": {
    "scrolled": false
   },
   "outputs": [
    {
     "data": {
      "text/html": [
       "<div>\n",
       "<style scoped>\n",
       "    .dataframe tbody tr th:only-of-type {\n",
       "        vertical-align: middle;\n",
       "    }\n",
       "\n",
       "    .dataframe tbody tr th {\n",
       "        vertical-align: top;\n",
       "    }\n",
       "\n",
       "    .dataframe thead th {\n",
       "        text-align: right;\n",
       "    }\n",
       "</style>\n",
       "<table border=\"1\" class=\"dataframe\">\n",
       "  <thead>\n",
       "    <tr style=\"text-align: right;\">\n",
       "      <th></th>\n",
       "      <th>match_id</th>\n",
       "      <th>hero_id</th>\n",
       "      <th>player_slot</th>\n",
       "      <th>team</th>\n",
       "      <th>gold</th>\n",
       "      <th>gold_spent</th>\n",
       "      <th>gold_total</th>\n",
       "      <th>xpm</th>\n",
       "      <th>lane</th>\n",
       "      <th>team_gold_total</th>\n",
       "      <th>gold_priority</th>\n",
       "      <th>team_xpm_total</th>\n",
       "      <th>xpm_priority</th>\n",
       "    </tr>\n",
       "  </thead>\n",
       "  <tbody>\n",
       "    <tr>\n",
       "      <th>291</th>\n",
       "      <td>7083305097</td>\n",
       "      <td>7</td>\n",
       "      <td>1</td>\n",
       "      <td>1</td>\n",
       "      <td>2414</td>\n",
       "      <td>13865</td>\n",
       "      <td>16279</td>\n",
       "      <td>457</td>\n",
       "      <td>3.0</td>\n",
       "      <td>125297</td>\n",
       "      <td>0.129923</td>\n",
       "      <td>3073</td>\n",
       "      <td>0.148715</td>\n",
       "    </tr>\n",
       "    <tr>\n",
       "      <th>528</th>\n",
       "      <td>7082722396</td>\n",
       "      <td>7</td>\n",
       "      <td>131</td>\n",
       "      <td>0</td>\n",
       "      <td>1052</td>\n",
       "      <td>4015</td>\n",
       "      <td>5067</td>\n",
       "      <td>426</td>\n",
       "      <td>1.0</td>\n",
       "      <td>32969</td>\n",
       "      <td>0.153690</td>\n",
       "      <td>1971</td>\n",
       "      <td>0.216134</td>\n",
       "    </tr>\n",
       "    <tr>\n",
       "      <th>910</th>\n",
       "      <td>7082204525</td>\n",
       "      <td>7</td>\n",
       "      <td>0</td>\n",
       "      <td>1</td>\n",
       "      <td>863</td>\n",
       "      <td>8690</td>\n",
       "      <td>9553</td>\n",
       "      <td>480</td>\n",
       "      <td>3.0</td>\n",
       "      <td>59412</td>\n",
       "      <td>0.160792</td>\n",
       "      <td>2427</td>\n",
       "      <td>0.197775</td>\n",
       "    </tr>\n",
       "    <tr>\n",
       "      <th>1230</th>\n",
       "      <td>7081372567</td>\n",
       "      <td>7</td>\n",
       "      <td>0</td>\n",
       "      <td>1</td>\n",
       "      <td>164</td>\n",
       "      <td>11510</td>\n",
       "      <td>11674</td>\n",
       "      <td>513</td>\n",
       "      <td>2.0</td>\n",
       "      <td>54544</td>\n",
       "      <td>0.214029</td>\n",
       "      <td>2273</td>\n",
       "      <td>0.225693</td>\n",
       "    </tr>\n",
       "    <tr>\n",
       "      <th>1260</th>\n",
       "      <td>7081318183</td>\n",
       "      <td>7</td>\n",
       "      <td>0</td>\n",
       "      <td>1</td>\n",
       "      <td>1027</td>\n",
       "      <td>9515</td>\n",
       "      <td>10542</td>\n",
       "      <td>578</td>\n",
       "      <td>3.0</td>\n",
       "      <td>78895</td>\n",
       "      <td>0.133621</td>\n",
       "      <td>3208</td>\n",
       "      <td>0.180175</td>\n",
       "    </tr>\n",
       "    <tr>\n",
       "      <th>...</th>\n",
       "      <td>...</td>\n",
       "      <td>...</td>\n",
       "      <td>...</td>\n",
       "      <td>...</td>\n",
       "      <td>...</td>\n",
       "      <td>...</td>\n",
       "      <td>...</td>\n",
       "      <td>...</td>\n",
       "      <td>...</td>\n",
       "      <td>...</td>\n",
       "      <td>...</td>\n",
       "      <td>...</td>\n",
       "      <td>...</td>\n",
       "    </tr>\n",
       "    <tr>\n",
       "      <th>99482</th>\n",
       "      <td>6905994522</td>\n",
       "      <td>7</td>\n",
       "      <td>2</td>\n",
       "      <td>1</td>\n",
       "      <td>5721</td>\n",
       "      <td>590</td>\n",
       "      <td>6311</td>\n",
       "      <td>48</td>\n",
       "      <td>2.0</td>\n",
       "      <td>32130</td>\n",
       "      <td>0.196421</td>\n",
       "      <td>258</td>\n",
       "      <td>0.186047</td>\n",
       "    </tr>\n",
       "    <tr>\n",
       "      <th>99499</th>\n",
       "      <td>6905963413</td>\n",
       "      <td>7</td>\n",
       "      <td>132</td>\n",
       "      <td>0</td>\n",
       "      <td>854</td>\n",
       "      <td>14820</td>\n",
       "      <td>15674</td>\n",
       "      <td>539</td>\n",
       "      <td>1.0</td>\n",
       "      <td>113960</td>\n",
       "      <td>0.137539</td>\n",
       "      <td>3285</td>\n",
       "      <td>0.164079</td>\n",
       "    </tr>\n",
       "    <tr>\n",
       "      <th>99574</th>\n",
       "      <td>6905867438</td>\n",
       "      <td>7</td>\n",
       "      <td>4</td>\n",
       "      <td>1</td>\n",
       "      <td>1956</td>\n",
       "      <td>10865</td>\n",
       "      <td>12821</td>\n",
       "      <td>492</td>\n",
       "      <td>3.0</td>\n",
       "      <td>87386</td>\n",
       "      <td>0.146717</td>\n",
       "      <td>2912</td>\n",
       "      <td>0.168956</td>\n",
       "    </tr>\n",
       "    <tr>\n",
       "      <th>99713</th>\n",
       "      <td>6905733931</td>\n",
       "      <td>7</td>\n",
       "      <td>3</td>\n",
       "      <td>1</td>\n",
       "      <td>849</td>\n",
       "      <td>12210</td>\n",
       "      <td>13059</td>\n",
       "      <td>565</td>\n",
       "      <td>3.0</td>\n",
       "      <td>108034</td>\n",
       "      <td>0.120879</td>\n",
       "      <td>3794</td>\n",
       "      <td>0.148919</td>\n",
       "    </tr>\n",
       "    <tr>\n",
       "      <th>99947</th>\n",
       "      <td>6905504043</td>\n",
       "      <td>7</td>\n",
       "      <td>130</td>\n",
       "      <td>0</td>\n",
       "      <td>878</td>\n",
       "      <td>12255</td>\n",
       "      <td>13133</td>\n",
       "      <td>544</td>\n",
       "      <td>1.0</td>\n",
       "      <td>88757</td>\n",
       "      <td>0.147966</td>\n",
       "      <td>3408</td>\n",
       "      <td>0.159624</td>\n",
       "    </tr>\n",
       "  </tbody>\n",
       "</table>\n",
       "<p>389 rows × 13 columns</p>\n",
       "</div>"
      ],
      "text/plain": [
       "         match_id  hero_id  player_slot  team  gold  gold_spent  gold_total  \\\n",
       "291    7083305097        7            1     1  2414       13865       16279   \n",
       "528    7082722396        7          131     0  1052        4015        5067   \n",
       "910    7082204525        7            0     1   863        8690        9553   \n",
       "1230   7081372567        7            0     1   164       11510       11674   \n",
       "1260   7081318183        7            0     1  1027        9515       10542   \n",
       "...           ...      ...          ...   ...   ...         ...         ...   \n",
       "99482  6905994522        7            2     1  5721         590        6311   \n",
       "99499  6905963413        7          132     0   854       14820       15674   \n",
       "99574  6905867438        7            4     1  1956       10865       12821   \n",
       "99713  6905733931        7            3     1   849       12210       13059   \n",
       "99947  6905504043        7          130     0   878       12255       13133   \n",
       "\n",
       "       xpm  lane  team_gold_total  gold_priority  team_xpm_total  xpm_priority  \n",
       "291    457   3.0           125297       0.129923            3073      0.148715  \n",
       "528    426   1.0            32969       0.153690            1971      0.216134  \n",
       "910    480   3.0            59412       0.160792            2427      0.197775  \n",
       "1230   513   2.0            54544       0.214029            2273      0.225693  \n",
       "1260   578   3.0            78895       0.133621            3208      0.180175  \n",
       "...    ...   ...              ...            ...             ...           ...  \n",
       "99482   48   2.0            32130       0.196421             258      0.186047  \n",
       "99499  539   1.0           113960       0.137539            3285      0.164079  \n",
       "99574  492   3.0            87386       0.146717            2912      0.168956  \n",
       "99713  565   3.0           108034       0.120879            3794      0.148919  \n",
       "99947  544   1.0            88757       0.147966            3408      0.159624  \n",
       "\n",
       "[389 rows x 13 columns]"
      ]
     },
     "execution_count": 48,
     "metadata": {},
     "output_type": "execute_result"
    }
   ],
   "source": [
    "X_lane = player_df[player_df['hero_id'] == hero_id]\n",
    "X_lane"
   ]
  },
  {
   "cell_type": "code",
   "execution_count": 49,
   "id": "3ac0ecbf",
   "metadata": {
    "scrolled": false
   },
   "outputs": [
    {
     "data": {
      "text/html": [
       "<div>\n",
       "<style scoped>\n",
       "    .dataframe tbody tr th:only-of-type {\n",
       "        vertical-align: middle;\n",
       "    }\n",
       "\n",
       "    .dataframe tbody tr th {\n",
       "        vertical-align: top;\n",
       "    }\n",
       "\n",
       "    .dataframe thead th {\n",
       "        text-align: right;\n",
       "    }\n",
       "</style>\n",
       "<table border=\"1\" class=\"dataframe\">\n",
       "  <thead>\n",
       "    <tr style=\"text-align: right;\">\n",
       "      <th></th>\n",
       "      <th>player_slot</th>\n",
       "      <th>team</th>\n",
       "      <th>lane</th>\n",
       "    </tr>\n",
       "  </thead>\n",
       "  <tbody>\n",
       "    <tr>\n",
       "      <th>291</th>\n",
       "      <td>1</td>\n",
       "      <td>1</td>\n",
       "      <td>3.0</td>\n",
       "    </tr>\n",
       "    <tr>\n",
       "      <th>528</th>\n",
       "      <td>131</td>\n",
       "      <td>0</td>\n",
       "      <td>1.0</td>\n",
       "    </tr>\n",
       "    <tr>\n",
       "      <th>910</th>\n",
       "      <td>0</td>\n",
       "      <td>1</td>\n",
       "      <td>3.0</td>\n",
       "    </tr>\n",
       "    <tr>\n",
       "      <th>1230</th>\n",
       "      <td>0</td>\n",
       "      <td>1</td>\n",
       "      <td>2.0</td>\n",
       "    </tr>\n",
       "    <tr>\n",
       "      <th>1260</th>\n",
       "      <td>0</td>\n",
       "      <td>1</td>\n",
       "      <td>3.0</td>\n",
       "    </tr>\n",
       "    <tr>\n",
       "      <th>...</th>\n",
       "      <td>...</td>\n",
       "      <td>...</td>\n",
       "      <td>...</td>\n",
       "    </tr>\n",
       "    <tr>\n",
       "      <th>99482</th>\n",
       "      <td>2</td>\n",
       "      <td>1</td>\n",
       "      <td>2.0</td>\n",
       "    </tr>\n",
       "    <tr>\n",
       "      <th>99499</th>\n",
       "      <td>132</td>\n",
       "      <td>0</td>\n",
       "      <td>1.0</td>\n",
       "    </tr>\n",
       "    <tr>\n",
       "      <th>99574</th>\n",
       "      <td>4</td>\n",
       "      <td>1</td>\n",
       "      <td>3.0</td>\n",
       "    </tr>\n",
       "    <tr>\n",
       "      <th>99713</th>\n",
       "      <td>3</td>\n",
       "      <td>1</td>\n",
       "      <td>3.0</td>\n",
       "    </tr>\n",
       "    <tr>\n",
       "      <th>99947</th>\n",
       "      <td>130</td>\n",
       "      <td>0</td>\n",
       "      <td>1.0</td>\n",
       "    </tr>\n",
       "  </tbody>\n",
       "</table>\n",
       "<p>389 rows × 3 columns</p>\n",
       "</div>"
      ],
      "text/plain": [
       "       player_slot  team  lane\n",
       "291              1     1   3.0\n",
       "528            131     0   1.0\n",
       "910              0     1   3.0\n",
       "1230             0     1   2.0\n",
       "1260             0     1   3.0\n",
       "...            ...   ...   ...\n",
       "99482            2     1   2.0\n",
       "99499          132     0   1.0\n",
       "99574            4     1   3.0\n",
       "99713            3     1   3.0\n",
       "99947          130     0   1.0\n",
       "\n",
       "[389 rows x 3 columns]"
      ]
     },
     "execution_count": 49,
     "metadata": {},
     "output_type": "execute_result"
    }
   ],
   "source": [
    "X_lane = player_df[player_df['hero_id'] == hero_id]\n",
    "X_lane = X_lane[['player_slot', 'team', 'lane']]\n",
    "X_lane"
   ]
  },
  {
   "cell_type": "code",
   "execution_count": 50,
   "id": "bf86939d",
   "metadata": {
    "scrolled": true
   },
   "outputs": [
    {
     "data": {
      "image/png": "[encoded data removed]",
      "text/plain": [
       "<Figure size 432x288 with 1 Axes>"
      ]
     },
     "metadata": {
      "needs_background": "light"
     },
     "output_type": "display_data"
    }
   ],
   "source": [
    "X_lane = player_df[player_df['hero_id'] == hero_id]\n",
    "X_lane = X_lane[['player_slot', 'team', 'lane']]\n",
    "\n",
    "scale = StandardScaler()\n",
    "scaled_df_lane = scale.fit_transform(X_lane)\n",
    "\n",
    "n_clusters = 5\n",
    "kmeans = KMeans(n_clusters=n_clusters, random_state=42)\n",
    "kmeans.fit(scaled_df_lane)\n",
    "target_hero_roles_lane = kmeans.predict(scaled_df_lane)\n",
    "\n",
    "show_cluster_counts(target_hero_roles_lane, \"K-Mean: Laning\")"
   ]
  },
  {
   "cell_type": "code",
   "execution_count": null,
   "id": "8028911c",
   "metadata": {},
   "outputs": [],
   "source": []
  }
 ],
 "metadata": {
  "kernelspec": {
   "display_name": "Python 3 (ipykernel)",
   "language": "python",
   "name": "python3"
  },
  "language_info": {
   "codemirror_mode": {
    "name": "ipython",
    "version": 3
   },
   "file_extension": ".py",
   "mimetype": "text/x-python",
   "name": "python",
   "nbconvert_exporter": "python",
   "pygments_lexer": "ipython3",
   "version": "3.9.12"
  }
 },
 "nbformat": 4,
 "nbformat_minor": 5
}
