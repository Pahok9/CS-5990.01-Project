{
 "cells": [
  {
   "cell_type": "code",
   "execution_count": 2,
   "metadata": {},
   "outputs": [],
   "source": [
    "import pandas as pd\n",
    "from sklearn.cluster import MeanShift\n",
    "from sklearn.preprocessing import StandardScaler "
   ]
  },
  {
   "cell_type": "code",
   "execution_count": 3,
   "metadata": {},
   "outputs": [],
   "source": [
    "df = pd.read_csv(\"players.csv\")"
   ]
  },
  {
   "cell_type": "code",
   "execution_count": 4,
   "metadata": {},
   "outputs": [],
   "source": [
    "hero_id = 7  # earthshaker hero id = 7"
   ]
  },
  {
   "cell_type": "code",
   "execution_count": 5,
   "metadata": {},
   "outputs": [],
   "source": [
    "df['team'] = df['team'].replace({'Radiant': 1, 'Dire': 0})"
   ]
  },
  {
   "cell_type": "code",
   "execution_count": 6,
   "metadata": {},
   "outputs": [],
   "source": [
    "X = df[df['hero_id'] == hero_id]\n",
    "\n",
    "X = X[X['']]"
   ]
  },
  {
   "cell_type": "code",
   "execution_count": 7,
   "metadata": {},
   "outputs": [],
   "source": [
    "scale = StandardScaler()\n",
    "scaled_df = scale.fit_transform(X)"
   ]
  },
  {
   "cell_type": "code",
   "execution_count": 8,
   "metadata": {},
   "outputs": [],
   "source": [
    "n_clusters = 5"
   ]
  },
  {
   "cell_type": "code",
   "execution_count": 14,
   "metadata": {},
   "outputs": [],
   "source": [
    "meanshift = MeanShift(bandwidth=2)"
   ]
  },
  {
   "cell_type": "code",
   "execution_count": 17,
   "metadata": {},
   "outputs": [
    {
     "data": {
      "text/plain": [
       "MeanShift(bandwidth=2, bin_seeding=False, cluster_all=True, min_bin_freq=1,\n",
       "     n_jobs=1, seeds=None)"
      ]
     },
     "execution_count": 17,
     "metadata": {},
     "output_type": "execute_result"
    }
   ],
   "source": [
    "meanshift.fit(scaled_df)"
   ]
  },
  {
   "cell_type": "code",
   "execution_count": 18,
   "metadata": {},
   "outputs": [],
   "source": [
    "target_hero_roles = meanshift.predict(scaled_df)"
   ]
  },
  {
   "cell_type": "code",
   "execution_count": 16,
   "metadata": {},
   "outputs": [
    {
     "name": "stdout",
     "output_type": "stream",
     "text": [
      "[ 0  1  0  0  0  0  0  0  0  2  0  1  0  1  2  1  1  2  0  6  4  0  1  0\n",
      "  0  1  2  1  0  0  1  0  0  1  2  1  0  0  0  1  0  0  0  2  0  0  1  0\n",
      "  6  1  1  1  1  1  0  1  0  0  0  0  1  1  0  0  1  0  2  1  0  1  1  0\n",
      "  0  1  1  0  2  2  0  1  6  1  0  0  1  1  0  1  0  1  0  0  0  1  0  0\n",
      "  1  1  1  1  1  0  0  4  1  1  1  0  1  6  2  2  0  0  2  9  6  0  2  1\n",
      "  0  1  1  0  0  0  0  2  0  1  1  0  0  1  0  0  3  1  1  1  2  1  1  0\n",
      "  2  0  6  1  1  2  0  1  0  1  1  1  1  6  1  1  1  1  1  0  0  0  0  0\n",
      "  6  6  0  1  0  1  1  0  2  6  0  0  6  3  1  0  6  0  0  6  1  0  1  1\n",
      "  1  0  3  1  0  2  0  0  1  1  2  0  2  2  1  0  1  1  1  0  1  0  1  1\n",
      "  3  1  0  1  0  0  0  1  0  0  1  1  1  1  0  0  0  1  0  7  0  6  0  2\n",
      "  0  0  6  1  1  1  0  1  1  1  1  1  1  1  6  1  1  8  8  1  6  0  0  2\n",
      "  0  0  1  1  1  1  0  1  0  0  1  0  0  1  0  0  1  0  6  1  9  0  1  1\n",
      "  0  0  0  0  0  0  5  0  0  1  1  6  5  2  0  1  1  0  0  0  1  1  1  0\n",
      "  9  1  0  1  1  0  0  1  0  0  1  0  1  0  1  1 10  0  0  1  0  1  1  0\n",
      "  1  1  9  1  0  1  1 11  1  1  0  1  0  0  0  1  0  0  1  1  0  1  0  1\n",
      "  1  0  1  0  0  0  0  9  1  1  1  1  1  1  0  0  1  0  0  1  0  1  1  0\n",
      "  3  1  0  0  1]\n"
     ]
    }
   ],
   "source": [
    "print(target_hero_roles) #fit_predict"
   ]
  },
  {
   "cell_type": "code",
   "execution_count": 19,
   "metadata": {},
   "outputs": [
    {
     "name": "stdout",
     "output_type": "stream",
     "text": [
      "[ 0  1  0  0  0  0  0  0  0  2  0  1  0  1  2  1  1  2  0  6  4  0  1  0\n",
      "  0  1  2  1  0  0  1  0  0  1  2  1  0  0  0  1  0  0  0  2  0  0  1  0\n",
      "  6  1  1  1  1  1  0  1  0  0  0  0  1  1  0  0  1  0  2  1  0  1  1  0\n",
      "  0  1  1  0  2  2  0  1  6  1  0  0  1  1  0  1  0  1  0  0  0  1  0  0\n",
      "  1  1  1  1  1  0  0  4  1  1  1  0  1  6  2  2  0  0  2  9  6  0  2  1\n",
      "  0  1  1  0  0  0  0  2  0  1  1  0  0  1  0  0  3  1  1  1  2  1  1  0\n",
      "  2  0  6  1  1  2  0  1  0  1  1  1  1  6  1  1  1  1  1  0  0  0  0  0\n",
      "  6  6  0  1  0  1  1  0  2  6  0  0  6  3  1  0  6  0  0  6  1  0  1  1\n",
      "  1  0  3  1  0  2  0  0  1  1  2  0  2  2  1  0  1  1  1  0  1  0  1  1\n",
      "  3  1  0  1  0  0  0  1  0  0  1  1  1  1  0  0  0  1  0  7  0  6  0  2\n",
      "  0  0  6  1  1  1  0  1  1  1  1  1  1  1  6  1  1  8  8  1  6  0  0  2\n",
      "  0  0  1  1  1  1  0  1  0  0  1  0  0  1  0  0  1  0  6  1  9  0  1  1\n",
      "  0  0  0  0  0  0  5  0  0  1  1  6  5  2  0  1  1  0  0  0  1  1  1  0\n",
      "  9  1  0  1  1  0  0  1  0  0  1  0  1  0  1  1 10  0  0  1  0  1  1  0\n",
      "  1  1  9  1  0  1  1 11  1  1  0  1  0  0  0  1  0  0  1  1  0  1  0  1\n",
      "  1  0  1  0  0  0  0  9  1  1  1  1  1  1  0  0  1  0  0  1  0  1  1  0\n",
      "  3  1  0  0  1]\n"
     ]
    }
   ],
   "source": [
    "print(target_hero_roles)"
   ]
  },
  {
   "cell_type": "code",
   "execution_count": null,
   "metadata": {},
   "outputs": [],
   "source": []
  }
 ],
 "metadata": {
  "kernelspec": {
   "display_name": "Python 3",
   "language": "python",
   "name": "python3"
  },
  "language_info": {
   "codemirror_mode": {
    "name": "ipython",
    "version": 3
   },
   "file_extension": ".py",
   "mimetype": "text/x-python",
   "name": "python",
   "nbconvert_exporter": "python",
   "pygments_lexer": "ipython3",
   "version": "3.6.5"
  }
 },
 "nbformat": 4,
 "nbformat_minor": 5
}
