{
 "cells": [
  {
   "cell_type": "markdown",
   "id": "",
   "metadata": {},
   "source": [
    "# Mean-Shift Clustering"
   ]
  },
  {
   "cell_type": "code",
   "execution_count": 1,
   "id": "",
   "metadata": {},
   "outputs": [],
   "source": [
    "import pandas as pd\n",
    "from sklearn.cluster import MeanShift\n",
    "from sklearn.preprocessing import StandardScaler \n",
    "import numpy as np\n",
    "import matplotlib.pyplot as plt\n",
    "import pickle"
   ]
  },
  {
   "cell_type": "markdown",
   "id": "",
   "metadata": {},
   "source": [
    "## Open Dataframes from File"
   ]
  },
  {
   "cell_type": "code",
   "execution_count": 2,
   "id": "",
   "metadata": {},
   "outputs": [],
   "source": [
    "# load resource_priority_df from a file\n",
    "with open('resource_priority_df.pickle', 'rb') as f:\n",
    "    resource_priority_df = pickle.load(f)\n",
    "    \n",
    "# load ability_priority_df from a file\n",
    "with open('ability_priority_df.pickle', 'rb') as f:\n",
    "    ability_priority_df = pickle.load(f)\n",
    "    \n",
    "# load player_df from a file (contains lane info)\n",
    "with open('player_df.pickle', 'rb') as f:\n",
    "    player_df = pickle.load(f)\n",
    "    "
   ]
  },
  {
   "cell_type": "code",
   "execution_count": 3,
   "id": "2f299338",
   "metadata": {},
   "outputs": [],
   "source": [
    "hero_id = 7 #earthshaker\n",
    "resource_priority_df = resource_priority_df[resource_priority_df['hero_id'] == hero_id]"
   ]
  },
  {
   "cell_type": "markdown",
   "id": "",
   "metadata": {},
   "source": [
    "## Function for visualizing counts"
   ]
  },
  {
   "cell_type": "code",
   "execution_count": 4,
   "id": "",
   "metadata": {},
   "outputs": [],
   "source": [
    "def show_cluster_counts(dataframe, graph_name):\n",
    "    role_counts = np.bincount(dataframe)\n",
    "\n",
    "    plt.bar(range(len(role_counts)), role_counts)\n",
    "\n",
    "    plt.xlabel('Role')\n",
    "    plt.ylabel('Count')\n",
    "    plt.title(graph_name)\n",
    "\n",
    "    plt.show()"
   ]
  },
  {
   "cell_type": "markdown",
   "id": "",
   "metadata": {},
   "source": [
    "## Mean Shift -- Resource Prioritization"
   ]
  },
  {
   "cell_type": "code",
   "execution_count": 13,
   "id": "4c02657f",
   "metadata": {},
   "outputs": [],
   "source": [
    "hero_id = 7 #earthshaker\n",
    "resource_priority_df = resource_priority_df[resource_priority_df['hero_id'] == hero_id]"
   ]
  },
  {
   "cell_type": "code",
   "execution_count": null,
   "id": "",
   "metadata": {},
   "outputs": [
    {
     "name": "stdout",
     "output_type": "stream",
     "text": [
      "[0 0 0 1 0 0 0 0 0 0 0 0 0 0 0 0 0 1 0 1 0 0 0 2 2 2 2 0 2 2 2 2 2 2 2 0 2\n",
      " 0 2 2 0 0 1 0 0 0 0 0 0 0 0 0 0 2 0 0 0 0 0 0 0 0 0 0 0 0 1 0 1 0 0 0 0 2\n",
      " 0 0 1 1 0 0 0 0 0 1 0 0 0 0 0 0 0 0 0 0 0 1 1 0 0 3 1 1 0 0 0 0 2 0 0 1 1\n",
      " 1 0 0 1 0 1 0 0 0 0 0 0 1 0 0 0 1 1 0 0 0 0 0 0 0 0 0 0 0 1 0 0 0 0 0 1 0\n",
      " 0 1 0 0 2 0 0 0 0 0 0 0 0 0 0 0 0 1 0 0 1 1 0 0 0 0 0 1 1 0 0 0 0 0 0 0 1\n",
      " 1 0 0 0 0 0 1 0 0 0 0 0 1 0 1 0 0 1 0 1 1 0 0 1 0 0 1 2 0 0 0 0 0 0 0 3 1\n",
      " 0 0 0 0 0 0 0 0 0 2 0 0 0 0 0 3 0 1 0 0 0 0 0 0 1 0 0 1 0 0 0 0 3 0 0 1 1\n",
      " 0 1 0 0 1 0 0 0 0 1 0 0 0 0 0 0 0 2 0 1 0 1 0 0 0 0 0 0 0 0 0 0 0 0 1 0 0\n",
      " 0 0 0 0 4 1 0 0 0 2 0 0 0 0 0 0 0 0 0 0 0 1 0 0 0 0 0 0 0 0 0 0 0 0 0 0 0\n",
      " 0 0 1 0 0 0 0 0 0 0 1 0 0 0 0 0 0 0 0 0 0 1 0 0 0 0 0 0 0 0 0 0 0 0 1 0 0\n",
      " 0 0 0 0 0 0 0 0 0 0 0 1 0 0 0 0 0 0 0]\n"
     ]
    },
    {
     "data": {
      "image/png": "[encoded data removed]",
      "text/plain": [
       "<Figure size 432x288 with 1 Axes>"
      ]
     },
     "metadata": {},
     "output_type": "display_data"
    }
   ],
   "source": [
    "scale = StandardScaler()\n",
    "scaled_df_rp = scale.fit_transform(X_rp[['xpm_priority', 'gold_priority']])\n",
    "\n",
    "meanshift_rp = MeanShift(bandwidth=.75)\n",
    "\n",
    "meanshift_rp.fit(scaled_df_rp)\n",
    "\n",
    "target_hero_roles_rp = meanshift_rp.predict(scaled_df_rp)\n",
    "\n",
    "print(target_hero_roles_rp) \n",
    "\n",
    "show_cluster_counts(target_hero_roles_rp, \"Mean-Shift: Resource Prioritization\")"
   ]
  },
  {
   "cell_type": "markdown",
   "id": "",
   "metadata": {},
   "source": [
    "## Mean Shift -- Ability Prioritization"
   ]
  },
  {
   "cell_type": "code",
   "execution_count": 21,
   "id": "",
   "metadata": {},
   "outputs": [
    {
     "name": "stdout",
     "output_type": "stream",
     "text": [
      "[0 0 0 0 0 1 4 0 0 0 0 0 0 0 0 0 0 0 0 0 2 0 0 0 0 3 0 0 0 0 0 0 4 0 0 0 0\n",
      " 0 0 0 0 0 0 0 0 3 0 0 0 0]\n"
     ]
    },
    {
     "data": {
      "image/png": "[encoded data removed]",
      "text/plain": [
       "<Figure size 432x288 with 1 Axes>"
      ]
     },
     "metadata": {},
     "output_type": "display_data"
    }
   ],
   "source": [
    "scale = StandardScaler()\n",
    "scaled_df_ap = scale.fit_transform(ability_priority_df[['A1', 'A2', 'A3', 'A4']][:500])\n",
    "\n",
    "meanshift_ap = MeanShift(bandwidth=2)\n",
    "\n",
    "meanshift_ap.fit(scaled_df_ap)\n",
    "\n",
    "target_hero_roles_ap = meanshift_ap.predict(scaled_df_ap)\n",
    "\n",
    "print(target_hero_roles_ap) \n",
    "\n",
    "show_cluster_counts(target_hero_roles_ap, \"Mean-Shift: Ability Prioritization\")"
   ]
  },
  {
   "cell_type": "markdown",
   "id": "",
   "metadata": {},
   "source": [
    "## Mean Shift -- Initial Lane\n"
   ]
  },
  {
   "cell_type": "code",
   "execution_count": 12,
   "id": "",
   "metadata": {},
   "outputs": [
    {
     "name": "stdout",
     "output_type": "stream",
     "text": [
      "[0 2 1 2 0 1 2 0 1 0 2 1 0 1 0 1 2 0 0 1 0 0 2 2 1 1 2 0 2 1 0 2 1 3 0 1 0\n",
      " 2 1 0 2 0 0 1 1 2 0 1 1 0 0 2 1 1 1 2 0 1 1 3 2 1 1 0 0 2 0 1 0 1 2 1 0 1\n",
      " 0 1 2 0 0 1 0 0 2 1 1 1 2 0 0 1 2 1 0 1 0 1 2 0 2 1 0 1 2 1 0 1 0 1 2 0 1\n",
      " 2 1 0 0 0 1 2 0 1 1 1 2 0 0 0 1 2 0 1 0 1 2 0 1 0 1 2 0 1 0 2 0 2 1 3 0 2\n",
      " 0 1 0 1 2 1 0 1 2 0 0 1 0 1 2 0 1 1 1 2 0 0 2 1 0 1 0 1 1 0 2 0 1 0 0 1 2\n",
      " 0 0 2 1 1 1 1 2 0 0 1 2 1 2 0 1 1 0 2 0 0 1 0 1 2 0 0 2 1 1 1 0 2 1 0 0 2\n",
      " 1 1 0 1 1 2 0 0 1 1 0 0 2 0 0 2 1 1 0 1 0 2 1 0 2 1 0 1 0 1 1 2 0 0 0 1 2\n",
      " 1 0 1 0 2 1 1 0 1 0 2 2 0 1 0 1 1 1 2 0 0 0 0 1 1 2 1 1 2 0 0 0 1 2 0 1 0\n",
      " 1 2 0 1 0 0 1 1 2 1 2 0 0 1 0 1 1 0 2 1 1 2 0 0 0 0 2 1 1 1 1 0 0 2 0 0 2\n",
      " 1 1 2 1 0 1 0 0 2 1 0 1 0 2 1 1 0 0 2 1 0 1 0 2 1 1 0 1 2 1 0 0 0 2 0 1 1\n",
      " 0 2 0 1 1 0 2 1 1 0 1 0 2 1 0 1 2 0 0 1 1 0 0 2 2 1 1 0 0 2 2 0 1 0 1 1 2\n",
      " 1 0 0 1 0 2 2 0 1 1 0 0 2 0 1 0 1 2 1 2 0 0 1 2 0 1 1 0 2 0 0 1 1 2 1 0 1\n",
      " 0 0 2 1 0 1 1 0 1 0 2 0 2 0 1 1 0 0 1 2 1 1 0 1 0 2 0 2 1 1 0 2 1 0 1 0 0\n",
      " 0 1 1 2 1 2 0 1 0 0 2 1 1 0 0 2 1 1 0]\n"
     ]
    },
    {
     "data": {
      "image/png": "[encoded data removed]",
      "text/plain": [
       "<Figure size 432x288 with 1 Axes>"
      ]
     },
     "metadata": {},
     "output_type": "display_data"
    }
   ],
   "source": [
    "scale = StandardScaler()\n",
    "scaled_df_lane = scale.fit_transform(player_df[['lane']][:500])\n",
    "\n",
    "meanshift_lane = MeanShift(bandwidth=0.8)\n",
    "\n",
    "meanshift_lane.fit(scaled_df_lane)\n",
    "\n",
    "target_hero_roles_lane = meanshift_lane.predict(scaled_df_lane)\n",
    "\n",
    "print(target_hero_roles_lane) \n",
    "\n",
    "show_cluster_counts(target_hero_roles_lane, \"Mean-Shift: Initial Lane\")"
   ]
  },
  {
   "cell_type": "code",
   "execution_count": null,
   "id": "",
   "metadata": {},
   "outputs": [],
   "source": []
  }
 ],
 "metadata": {
  "kernelspec": {
   "display_name": "Python 3",
   "language": "python",
   "name": "python3"
  },
  "language_info": {
   "codemirror_mode": {
    "name": "ipython",
    "version": 3
   },
   "file_extension": ".py",
   "mimetype": "text/x-python",
   "name": "python",
   "nbconvert_exporter": "python",
   "pygments_lexer": "ipython3",
   "version": "3.6.5"
  }
 },
 "nbformat": 4,
 "nbformat_minor": 5
}
