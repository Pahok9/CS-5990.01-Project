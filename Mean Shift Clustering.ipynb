{
 "cells": [
  {
   "cell_type": "markdown",
   "id": "a23ba00d",
   "metadata": {},
   "source": [
    "# Mean-Shift Clustering"
   ]
  },
  {
   "cell_type": "code",
   "execution_count": 1,
   "id": "483a680d",
   "metadata": {},
   "outputs": [],
   "source": [
    "import pandas as pd\n",
    "from sklearn.cluster import MeanShift\n",
    "from sklearn.preprocessing import StandardScaler \n",
    "import numpy as np\n",
    "import matplotlib.pyplot as plt\n",
    "import pickle"
   ]
  },
  {
   "cell_type": "markdown",
   "id": "a58cc5dd",
   "metadata": {},
   "source": [
    "## Open Dataframes from File"
   ]
  },
  {
   "cell_type": "code",
   "execution_count": 22,
   "id": "f41a16f8",
   "metadata": {},
   "outputs": [],
   "source": [
    "# load resource_priority_df from a file\n",
    "with open('resource_priority_df.pickle', 'rb') as f:\n",
    "    resource_priority_df = pickle.load(f)\n",
    "    \n",
    "# load ability_priority_df from a file\n",
    "with open('ability_priority_df.pickle', 'rb') as f:\n",
    "    ability_priority_df = pickle.load(f)\n",
    "    \n",
    "# load lane_info_df from a file \n",
    "with open('lane_info_df.pickle', 'rb') as f:\n",
    "    lane_info_df = pickle.load(f)\n",
    "    "
   ]
  },
  {
   "cell_type": "code",
   "execution_count": 3,
   "id": "ec69075c",
   "metadata": {},
   "outputs": [],
   "source": [
    "hero_id = 7 #earthshaker\n",
    "resource_priority_df = resource_priority_df[resource_priority_df['hero_id'] == hero_id]"
   ]
  },
  {
   "cell_type": "markdown",
   "id": "b20662b0",
   "metadata": {},
   "source": [
    "## Function for visualizing counts"
   ]
  },
  {
   "cell_type": "code",
   "execution_count": 4,
   "id": "e681c040",
   "metadata": {},
   "outputs": [],
   "source": [
    "def show_cluster_counts(dataframe, graph_name):\n",
    "    role_counts = np.bincount(dataframe)\n",
    "\n",
    "    plt.bar(range(len(role_counts)), role_counts)\n",
    "\n",
    "    plt.xlabel('Role')\n",
    "    plt.ylabel('Count')\n",
    "    plt.title(graph_name)\n",
    "\n",
    "    plt.show()"
   ]
  },
  {
   "cell_type": "markdown",
   "id": "d9a9bcf8",
   "metadata": {},
   "source": [
    "## Mean Shift -- Resource Prioritization"
   ]
  },
  {
   "cell_type": "code",
   "execution_count": 13,
   "id": "a33a3fdf",
   "metadata": {},
   "outputs": [],
   "source": [
    "hero_id = 7 #earthshaker\n",
    "resource_priority_df = resource_priority_df[resource_priority_df['hero_id'] == hero_id]"
   ]
  },
  {
   "cell_type": "code",
   "execution_count": null,
   "id": "f4d974cc",
   "metadata": {},
   "outputs": [
    {
     "name": "stdout",
     "output_type": "stream",
     "text": [
      "[0 0 0 1 0 0 0 0 0 0 0 0 0 0 0 0 0 1 0 1 0 0 0 2 2 2 2 0 2 2 2 2 2 2 2 0 2\n",
      " 0 2 2 0 0 1 0 0 0 0 0 0 0 0 0 0 2 0 0 0 0 0 0 0 0 0 0 0 0 1 0 1 0 0 0 0 2\n",
      " 0 0 1 1 0 0 0 0 0 1 0 0 0 0 0 0 0 0 0 0 0 1 1 0 0 3 1 1 0 0 0 0 2 0 0 1 1\n",
      " 1 0 0 1 0 1 0 0 0 0 0 0 1 0 0 0 1 1 0 0 0 0 0 0 0 0 0 0 0 1 0 0 0 0 0 1 0\n",
      " 0 1 0 0 2 0 0 0 0 0 0 0 0 0 0 0 0 1 0 0 1 1 0 0 0 0 0 1 1 0 0 0 0 0 0 0 1\n",
      " 1 0 0 0 0 0 1 0 0 0 0 0 1 0 1 0 0 1 0 1 1 0 0 1 0 0 1 2 0 0 0 0 0 0 0 3 1\n",
      " 0 0 0 0 0 0 0 0 0 2 0 0 0 0 0 3 0 1 0 0 0 0 0 0 1 0 0 1 0 0 0 0 3 0 0 1 1\n",
      " 0 1 0 0 1 0 0 0 0 1 0 0 0 0 0 0 0 2 0 1 0 1 0 0 0 0 0 0 0 0 0 0 0 0 1 0 0\n",
      " 0 0 0 0 4 1 0 0 0 2 0 0 0 0 0 0 0 0 0 0 0 1 0 0 0 0 0 0 0 0 0 0 0 0 0 0 0\n",
      " 0 0 1 0 0 0 0 0 0 0 1 0 0 0 0 0 0 0 0 0 0 1 0 0 0 0 0 0 0 0 0 0 0 0 1 0 0\n",
      " 0 0 0 0 0 0 0 0 0 0 0 1 0 0 0 0 0 0 0]\n"
     ]
    },
    {
     "data": {
      "image/png": "[encoded data removed]",
      "text/plain": [
       "<Figure size 432x288 with 1 Axes>"
      ]
     },
     "metadata": {},
     "output_type": "display_data"
    }
   ],
   "source": [
    "scale = StandardScaler()\n",
    "scaled_df_rp = scale.fit_transform(X_rp[['xpm_priority', 'gold_priority']])\n",
    "\n",
    "meanshift_rp = MeanShift(bandwidth=.75)\n",
    "\n",
    "meanshift_rp.fit(scaled_df_rp)\n",
    "\n",
    "target_hero_roles_rp = meanshift_rp.predict(scaled_df_rp)\n",
    "\n",
    "print(target_hero_roles_rp) \n",
    "\n",
    "show_cluster_counts(target_hero_roles_rp, \"Mean-Shift: Resource Prioritization\")"
   ]
  },
  {
   "cell_type": "markdown",
   "id": "087f32e5",
   "metadata": {},
   "source": [
    "## Mean Shift -- Ability Prioritization"
   ]
  },
  {
   "cell_type": "code",
   "execution_count": 21,
   "id": "a76f3bef",
   "metadata": {},
   "outputs": [
    {
     "name": "stdout",
     "output_type": "stream",
     "text": [
      "[0 0 0 0 0 1 4 0 0 0 0 0 0 0 0 0 0 0 0 0 2 0 0 0 0 3 0 0 0 0 0 0 4 0 0 0 0\n",
      " 0 0 0 0 0 0 0 0 3 0 0 0 0]\n"
     ]
    },
    {
     "data": {
      "image/png": "[encoded data removed]",
      "text/plain": [
       "<Figure size 432x288 with 1 Axes>"
      ]
     },
     "metadata": {},
     "output_type": "display_data"
    }
   ],
   "source": [
    "scale = StandardScaler()\n",
    "scaled_df_ap = scale.fit_transform(ability_priority_df[['A1', 'A2', 'A3', 'A4']][:500])\n",
    "\n",
    "meanshift_ap = MeanShift(bandwidth=2)\n",
    "\n",
    "meanshift_ap.fit(scaled_df_ap)\n",
    "\n",
    "target_hero_roles_ap = meanshift_ap.predict(scaled_df_ap)\n",
    "\n",
    "print(target_hero_roles_ap) \n",
    "\n",
    "show_cluster_counts(target_hero_roles_ap, \"Mean-Shift: Ability Prioritization\")"
   ]
  },
  {
   "cell_type": "markdown",
   "id": "04d77c52",
   "metadata": {},
   "source": [
    "## Mean Shift -- Lane Info\n"
   ]
  },
  {
   "cell_type": "code",
   "execution_count": 31,
   "id": "0088d66f",
   "metadata": {},
   "outputs": [
    {
     "name": "stdout",
     "output_type": "stream",
     "text": [
      "[0 1 0 0 0 2 0 0 2 0 2 1 0 1 0 1 1 0 0 0 0 2 1]\n"
     ]
    },
    {
     "data": {
      "image/png": "[encoded data removed]",
      "text/plain": [
       "<Figure size 432x288 with 1 Axes>"
      ]
     },
     "metadata": {},
     "output_type": "display_data"
    }
   ],
   "source": [
    "scale = StandardScaler()\n",
    "scaled_df_lane = scale.fit_transform(lane_info_df[['top', 'mid', 'bottom', 'roaming']][:500])\n",
    "\n",
    "meanshift_lane = MeanShift(bandwidth=2)\n",
    "\n",
    "meanshift_lane.fit(scaled_df_lane)\n",
    "\n",
    "target_hero_roles_lane = meanshift_lane.predict(scaled_df_lane)\n",
    "\n",
    "print(target_hero_roles_lane) \n",
    "\n",
    "show_cluster_counts(target_hero_roles_lane, \"Mean-Shift: Lane Info\")"
   ]
  },
  {
   "cell_type": "code",
   "execution_count": null,
   "id": "13fd37c0",
   "metadata": {},
   "outputs": [],
   "source": []
  }
 ],
 "metadata": {
  "kernelspec": {
   "display_name": "Python 3",
   "language": "python",
   "name": "python3"
  },
  "language_info": {
   "codemirror_mode": {
    "name": "ipython",
    "version": 3
   },
   "file_extension": ".py",
   "mimetype": "text/x-python",
   "name": "python",
   "nbconvert_exporter": "python",
   "pygments_lexer": "ipython3",
   "version": "3.6.5"
  }
 },
 "nbformat": 4,
 "nbformat_minor": 5
}
